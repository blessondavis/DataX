{
  "nbformat": 4,
  "nbformat_minor": 0,
  "metadata": {
    "colab": {
      "name": "SQL_DataX.ipynb",
      "provenance": []
    },
    "kernelspec": {
      "name": "python3",
      "display_name": "Python 3"
    },
    "language_info": {
      "name": "python"
    }
  },
  "cells": [
    {
      "cell_type": "markdown",
      "source": [
        "# SQL Homework"
      ],
      "metadata": {
        "id": "-9wEkmGXyRDA"
      }
    },
    {
      "cell_type": "markdown",
      "source": [
        "## Simple Select"
      ],
      "metadata": {
        "id": "SdW-9RnV0onm"
      }
    },
    {
      "cell_type": "code",
      "execution_count": 6,
      "metadata": {
        "id": "AUJ5KH6kxklu",
        "colab": {
          "base_uri": "https://localhost:8080/"
        },
        "outputId": "1852e425-3850-4627-a6fc-74b0cb06c19c"
      },
      "outputs": [
        {
          "output_type": "stream",
          "name": "stdout",
          "text": [
            "The sql extension is already loaded. To reload it, use:\n",
            "  %reload_ext sql\n"
          ]
        }
      ],
      "source": [
        "%load_ext sql"
      ]
    },
    {
      "cell_type": "code",
      "source": [
        "%%sql sqlite:///foo1.db\n",
        "CREATE TABLE parents AS\n",
        "  SELECT \"abraham\" AS parent, \"barack\" AS child UNION\n",
        "  SELECT \"abraham\",           \"clinton\"         UNION\n",
        "  SELECT \"delano\",            \"herbert\"         UNION\n",
        "  SELECT \"fillmore\",          \"abraham\"         UNION\n",
        "  SELECT \"fillmore\",          \"delano\"          UNION\n",
        "  SELECT \"fillmore\",          \"grover\"          UNION\n",
        "  SELECT \"eisenhower\",        \"fillmore\";"
      ],
      "metadata": {
        "colab": {
          "base_uri": "https://localhost:8080/"
        },
        "id": "QeW7CnBCz3PQ",
        "outputId": "433ffd64-cc55-44fa-9842-5633cd7b25bf"
      },
      "execution_count": 7,
      "outputs": [
        {
          "output_type": "stream",
          "name": "stdout",
          "text": [
            "(sqlite3.OperationalError) table parents already exists\n",
            "[SQL: CREATE TABLE parents AS\n",
            "  SELECT \"abraham\" AS parent, \"barack\" AS child UNION\n",
            "  SELECT \"abraham\",           \"clinton\"         UNION\n",
            "  SELECT \"delano\",            \"herbert\"         UNION\n",
            "  SELECT \"fillmore\",          \"abraham\"         UNION\n",
            "  SELECT \"fillmore\",          \"delano\"          UNION\n",
            "  SELECT \"fillmore\",          \"grover\"          UNION\n",
            "  SELECT \"eisenhower\",        \"fillmore\";]\n",
            "(Background on this error at: https://sqlalche.me/e/14/e3q8)\n"
          ]
        }
      ]
    },
    {
      "cell_type": "markdown",
      "source": [
        "1. Select all records in the table"
      ],
      "metadata": {
        "id": "aeWxf6_21Hlo"
      }
    },
    {
      "cell_type": "code",
      "source": [
        "%%sql\n",
        "select * from parents"
      ],
      "metadata": {
        "colab": {
          "base_uri": "https://localhost:8080/",
          "height": 225
        },
        "id": "y7xDBGikz8BO",
        "outputId": "8e51f061-8d0b-47fe-ac1e-354c2059dbde"
      },
      "execution_count": 8,
      "outputs": [
        {
          "output_type": "stream",
          "name": "stdout",
          "text": [
            " * sqlite:///foo1.db\n",
            "Done.\n"
          ]
        },
        {
          "output_type": "execute_result",
          "data": {
            "text/html": [
              "<table>\n",
              "    <thead>\n",
              "        <tr>\n",
              "            <th>parent</th>\n",
              "            <th>child</th>\n",
              "        </tr>\n",
              "    </thead>\n",
              "    <tbody>\n",
              "        <tr>\n",
              "            <td>abraham</td>\n",
              "            <td>barack</td>\n",
              "        </tr>\n",
              "        <tr>\n",
              "            <td>abraham</td>\n",
              "            <td>clinton</td>\n",
              "        </tr>\n",
              "        <tr>\n",
              "            <td>delano</td>\n",
              "            <td>herbert</td>\n",
              "        </tr>\n",
              "        <tr>\n",
              "            <td>eisenhower</td>\n",
              "            <td>fillmore</td>\n",
              "        </tr>\n",
              "        <tr>\n",
              "            <td>fillmore</td>\n",
              "            <td>abraham</td>\n",
              "        </tr>\n",
              "        <tr>\n",
              "            <td>fillmore</td>\n",
              "            <td>delano</td>\n",
              "        </tr>\n",
              "        <tr>\n",
              "            <td>fillmore</td>\n",
              "            <td>grover</td>\n",
              "        </tr>\n",
              "    </tbody>\n",
              "</table>"
            ],
            "text/plain": [
              "[('abraham', 'barack'),\n",
              " ('abraham', 'clinton'),\n",
              " ('delano', 'herbert'),\n",
              " ('eisenhower', 'fillmore'),\n",
              " ('fillmore', 'abraham'),\n",
              " ('fillmore', 'delano'),\n",
              " ('fillmore', 'grover')]"
            ]
          },
          "metadata": {},
          "execution_count": 8
        }
      ]
    },
    {
      "cell_type": "markdown",
      "source": [
        "2. SELECT child and parent, where abraham is the parent."
      ],
      "metadata": {
        "id": "TUGViJ2o1P9o"
      }
    },
    {
      "cell_type": "code",
      "source": [
        "%%sql\n",
        "select * from parents where parent='abraham'"
      ],
      "metadata": {
        "colab": {
          "base_uri": "https://localhost:8080/",
          "height": 118
        },
        "id": "fywogG7_0B0g",
        "outputId": "2d60a48f-54aa-40d4-87f2-62fb33533af8"
      },
      "execution_count": 10,
      "outputs": [
        {
          "output_type": "stream",
          "name": "stdout",
          "text": [
            " * sqlite:///foo1.db\n",
            "Done.\n"
          ]
        },
        {
          "output_type": "execute_result",
          "data": {
            "text/html": [
              "<table>\n",
              "    <thead>\n",
              "        <tr>\n",
              "            <th>parent</th>\n",
              "            <th>child</th>\n",
              "        </tr>\n",
              "    </thead>\n",
              "    <tbody>\n",
              "        <tr>\n",
              "            <td>abraham</td>\n",
              "            <td>barack</td>\n",
              "        </tr>\n",
              "        <tr>\n",
              "            <td>abraham</td>\n",
              "            <td>clinton</td>\n",
              "        </tr>\n",
              "    </tbody>\n",
              "</table>"
            ],
            "text/plain": [
              "[('abraham', 'barack'), ('abraham', 'clinton')]"
            ]
          },
          "metadata": {},
          "execution_count": 10
        }
      ]
    },
    {
      "cell_type": "markdown",
      "source": [
        "3. Select all child that have e in their name"
      ],
      "metadata": {
        "id": "R9lmF1To1hnr"
      }
    },
    {
      "cell_type": "code",
      "source": [
        "%%sql\n",
        "SELECT child FROM parents \n",
        "where child like '%e%'\n"
      ],
      "metadata": {
        "colab": {
          "base_uri": "https://localhost:8080/",
          "height": 161
        },
        "id": "r8Wt3KPl1oz9",
        "outputId": "9d981d09-ac3a-45b5-ae9d-7009c1551492"
      },
      "execution_count": 17,
      "outputs": [
        {
          "output_type": "stream",
          "name": "stdout",
          "text": [
            " * sqlite:///foo1.db\n",
            "Done.\n"
          ]
        },
        {
          "output_type": "execute_result",
          "data": {
            "text/html": [
              "<table>\n",
              "    <thead>\n",
              "        <tr>\n",
              "            <th>child</th>\n",
              "        </tr>\n",
              "    </thead>\n",
              "    <tbody>\n",
              "        <tr>\n",
              "            <td>herbert</td>\n",
              "        </tr>\n",
              "        <tr>\n",
              "            <td>fillmore</td>\n",
              "        </tr>\n",
              "        <tr>\n",
              "            <td>delano</td>\n",
              "        </tr>\n",
              "        <tr>\n",
              "            <td>grover</td>\n",
              "        </tr>\n",
              "    </tbody>\n",
              "</table>"
            ],
            "text/plain": [
              "[('herbert',), ('fillmore',), ('delano',), ('grover',)]"
            ]
          },
          "metadata": {},
          "execution_count": 17
        }
      ]
    },
    {
      "cell_type": "markdown",
      "source": [
        "4. Select all unique parents and order them by name"
      ],
      "metadata": {
        "id": "QLWQSlH33iZ-"
      }
    },
    {
      "cell_type": "code",
      "source": [
        "%%sql\n",
        "select distinct parent \n",
        "from parents ORDER BY parent DESC"
      ],
      "metadata": {
        "colab": {
          "base_uri": "https://localhost:8080/",
          "height": 161
        },
        "id": "lu04gSHv3r53",
        "outputId": "baee1040-e2a3-4bd7-fd98-bfaeaf04ddda"
      },
      "execution_count": 18,
      "outputs": [
        {
          "output_type": "stream",
          "name": "stdout",
          "text": [
            " * sqlite:///foo1.db\n",
            "Done.\n"
          ]
        },
        {
          "output_type": "execute_result",
          "data": {
            "text/html": [
              "<table>\n",
              "    <thead>\n",
              "        <tr>\n",
              "            <th>parent</th>\n",
              "        </tr>\n",
              "    </thead>\n",
              "    <tbody>\n",
              "        <tr>\n",
              "            <td>fillmore</td>\n",
              "        </tr>\n",
              "        <tr>\n",
              "            <td>eisenhower</td>\n",
              "        </tr>\n",
              "        <tr>\n",
              "            <td>delano</td>\n",
              "        </tr>\n",
              "        <tr>\n",
              "            <td>abraham</td>\n",
              "        </tr>\n",
              "    </tbody>\n",
              "</table>"
            ],
            "text/plain": [
              "[('fillmore',), ('eisenhower',), ('delano',), ('abraham',)]"
            ]
          },
          "metadata": {},
          "execution_count": 18
        }
      ]
    },
    {
      "cell_type": "markdown",
      "source": [
        "## Joins"
      ],
      "metadata": {
        "id": "MYourgu20wsi"
      }
    },
    {
      "cell_type": "markdown",
      "source": [
        "Creating the table dogs"
      ],
      "metadata": {
        "id": "c2qMLDzn4rGn"
      }
    },
    {
      "cell_type": "code",
      "source": [
        "%%sql\n",
        "CREATE TABLE dogs AS\n",
        "  SELECT \"abraham\" AS name, \"long\" AS fur UNION\n",
        "  SELECT \"barack\",          \"short\"       UNION\n",
        "  SELECT \"clinton\",         \"long\"        UNION\n",
        "  SELECT \"delano\",          \"long\"        UNION\n",
        "  SELECT \"eisenhower\",      \"short\"       UNION\n",
        "  SELECT \"fillmore\",        \"curly\"       UNION\n",
        "  SELECT \"grover\",          \"short\"       UNION\n",
        "  SELECT \"herbert\",         \"curly\";"
      ],
      "metadata": {
        "colab": {
          "base_uri": "https://localhost:8080/"
        },
        "id": "81G2HEeX0046",
        "outputId": "d6b15bdb-1686-4e36-fffd-f950ee73ad4e"
      },
      "execution_count": 19,
      "outputs": [
        {
          "output_type": "stream",
          "name": "stdout",
          "text": [
            " * sqlite:///foo1.db\n",
            "Done.\n"
          ]
        },
        {
          "output_type": "execute_result",
          "data": {
            "text/plain": [
              "[]"
            ]
          },
          "metadata": {},
          "execution_count": 19
        }
      ]
    },
    {
      "cell_type": "markdown",
      "source": [
        "1. Count all the number of short haired dogs"
      ],
      "metadata": {
        "id": "ctQA8uT240Lt"
      }
    },
    {
      "cell_type": "code",
      "source": [
        "%%sql\n",
        "select count(*) from dogs where fur='short'"
      ],
      "metadata": {
        "colab": {
          "base_uri": "https://localhost:8080/",
          "height": 97
        },
        "id": "yOQO08bn45-r",
        "outputId": "3b07efbd-bb89-457f-a79c-06ea2862d463"
      },
      "execution_count": 20,
      "outputs": [
        {
          "output_type": "stream",
          "name": "stdout",
          "text": [
            " * sqlite:///foo1.db\n",
            "Done.\n"
          ]
        },
        {
          "output_type": "execute_result",
          "data": {
            "text/html": [
              "<table>\n",
              "    <thead>\n",
              "        <tr>\n",
              "            <th>count(*)</th>\n",
              "        </tr>\n",
              "    </thead>\n",
              "    <tbody>\n",
              "        <tr>\n",
              "            <td>3</td>\n",
              "        </tr>\n",
              "    </tbody>\n",
              "</table>"
            ],
            "text/plain": [
              "[(3,)]"
            ]
          },
          "metadata": {},
          "execution_count": 20
        }
      ]
    },
    {
      "cell_type": "markdown",
      "source": [
        "2. Join the previous table and select the parent of the curly dogs"
      ],
      "metadata": {
        "id": "z1G2JE7E5Yd9"
      }
    },
    {
      "cell_type": "code",
      "source": [
        "%%sql\n",
        "create table parents_dogs as\n",
        "SELECT *\n",
        "FROM parents\n",
        "INNER JOIN dogs ON dogs.name=parents.child;\n"
      ],
      "metadata": {
        "colab": {
          "base_uri": "https://localhost:8080/"
        },
        "id": "QUBil2x65hSH",
        "outputId": "4b69c853-23da-4cd1-986f-4b1de141e30f"
      },
      "execution_count": 28,
      "outputs": [
        {
          "output_type": "stream",
          "name": "stdout",
          "text": [
            " * sqlite:///foo1.db\n",
            "Done.\n"
          ]
        },
        {
          "output_type": "execute_result",
          "data": {
            "text/plain": [
              "[]"
            ]
          },
          "metadata": {},
          "execution_count": 28
        }
      ]
    },
    {
      "cell_type": "code",
      "source": [
        "%%sql\n",
        "select parent from parents_dogs\n",
        "where fur='curly'"
      ],
      "metadata": {
        "colab": {
          "base_uri": "https://localhost:8080/",
          "height": 118
        },
        "id": "90oe3rFA8okg",
        "outputId": "446bba33-1a89-4583-91ce-7ae47e5420d6"
      },
      "execution_count": 29,
      "outputs": [
        {
          "output_type": "stream",
          "name": "stdout",
          "text": [
            " * sqlite:///foo1.db\n",
            "Done.\n"
          ]
        },
        {
          "output_type": "execute_result",
          "data": {
            "text/html": [
              "<table>\n",
              "    <thead>\n",
              "        <tr>\n",
              "            <th>parent</th>\n",
              "        </tr>\n",
              "    </thead>\n",
              "    <tbody>\n",
              "        <tr>\n",
              "            <td>delano</td>\n",
              "        </tr>\n",
              "        <tr>\n",
              "            <td>eisenhower</td>\n",
              "        </tr>\n",
              "    </tbody>\n",
              "</table>"
            ],
            "text/plain": [
              "[('delano',), ('eisenhower',)]"
            ]
          },
          "metadata": {},
          "execution_count": 29
        }
      ]
    },
    {
      "cell_type": "markdown",
      "source": [
        "3. Parents and children with the same fur type."
      ],
      "metadata": {
        "id": "oadWGZmc9Dxg"
      }
    },
    {
      "cell_type": "code",
      "source": [
        "%%sql\n",
        "select distinct parent, child from parents_dogs\n",
        "group by fur"
      ],
      "metadata": {
        "colab": {
          "base_uri": "https://localhost:8080/",
          "height": 139
        },
        "id": "V4RNraUo9HDh",
        "outputId": "62c7bd21-766c-4a50-81ac-4f12d88025c1"
      },
      "execution_count": 34,
      "outputs": [
        {
          "output_type": "stream",
          "name": "stdout",
          "text": [
            " * sqlite:///foo1.db\n",
            "Done.\n"
          ]
        },
        {
          "output_type": "execute_result",
          "data": {
            "text/html": [
              "<table>\n",
              "    <thead>\n",
              "        <tr>\n",
              "            <th>parent</th>\n",
              "            <th>child</th>\n",
              "        </tr>\n",
              "    </thead>\n",
              "    <tbody>\n",
              "        <tr>\n",
              "            <td>eisenhower</td>\n",
              "            <td>fillmore</td>\n",
              "        </tr>\n",
              "        <tr>\n",
              "            <td>fillmore</td>\n",
              "            <td>delano</td>\n",
              "        </tr>\n",
              "        <tr>\n",
              "            <td>fillmore</td>\n",
              "            <td>grover</td>\n",
              "        </tr>\n",
              "    </tbody>\n",
              "</table>"
            ],
            "text/plain": [
              "[('eisenhower', 'fillmore'), ('fillmore', 'delano'), ('fillmore', 'grover')]"
            ]
          },
          "metadata": {},
          "execution_count": 34
        }
      ]
    },
    {
      "cell_type": "markdown",
      "source": [
        "## Aggregate"
      ],
      "metadata": {
        "id": "vtXKA6Ef01Nv"
      }
    },
    {
      "cell_type": "markdown",
      "source": [
        "Creating the table:"
      ],
      "metadata": {
        "id": "ieFOx7jS9p8S"
      }
    },
    {
      "cell_type": "code",
      "source": [
        "%%sql\n",
        "create table animals as\n",
        " select \"dog\" as kind, 4 as legs, 20 as weight union\n",
        " select \"cat\" , 4 , 10 union\n",
        " select \"ferret\" , 4 , 10 union\n",
        " select \"parrot\" , 2 , 6 union\n",
        " select \"penguin\" , 2 , 10 union\n",
        "select \"t-rex\" , 2 , 12000;"
      ],
      "metadata": {
        "colab": {
          "base_uri": "https://localhost:8080/"
        },
        "id": "mfytMmfm9s9U",
        "outputId": "62fda8be-7b16-404a-fcdc-f7698f1ec6c4"
      },
      "execution_count": 30,
      "outputs": [
        {
          "output_type": "stream",
          "name": "stdout",
          "text": [
            " * sqlite:///foo1.db\n",
            "Done.\n"
          ]
        },
        {
          "output_type": "execute_result",
          "data": {
            "text/plain": [
              "[]"
            ]
          },
          "metadata": {},
          "execution_count": 30
        }
      ]
    },
    {
      "cell_type": "markdown",
      "source": [
        "1.SELECT the animal with the minimum weight. Display kind and min_weight."
      ],
      "metadata": {
        "id": "6pFbAh5z98Zd"
      }
    },
    {
      "cell_type": "code",
      "source": [
        "%%sql\n",
        "SELECT kind, MIN(weight)\n",
        "FROM animals"
      ],
      "metadata": {
        "colab": {
          "base_uri": "https://localhost:8080/",
          "height": 97
        },
        "id": "4oi6rzpQ07Ew",
        "outputId": "0e4dd236-a737-40cd-f95d-54173d6e7b61"
      },
      "execution_count": 37,
      "outputs": [
        {
          "output_type": "stream",
          "name": "stdout",
          "text": [
            " * sqlite:///foo1.db\n",
            "Done.\n"
          ]
        },
        {
          "output_type": "execute_result",
          "data": {
            "text/html": [
              "<table>\n",
              "    <thead>\n",
              "        <tr>\n",
              "            <th>kind</th>\n",
              "            <th>MIN(weight)</th>\n",
              "        </tr>\n",
              "    </thead>\n",
              "    <tbody>\n",
              "        <tr>\n",
              "            <td>parrot</td>\n",
              "            <td>6</td>\n",
              "        </tr>\n",
              "    </tbody>\n",
              "</table>"
            ],
            "text/plain": [
              "[('parrot', 6)]"
            ]
          },
          "metadata": {},
          "execution_count": 37
        }
      ]
    },
    {
      "cell_type": "markdown",
      "source": [
        "2. Use aggregate function AVG to display a table with the average number of legs and the average weight."
      ],
      "metadata": {
        "id": "DQGpsDMSAsTf"
      }
    },
    {
      "cell_type": "code",
      "source": [
        "%%sql\n",
        "SELECT AVG(legs) as avg_legs, AVG(weight) as avg_weights\n",
        "FROM animals"
      ],
      "metadata": {
        "colab": {
          "base_uri": "https://localhost:8080/",
          "height": 97
        },
        "id": "f27qTVTYAxKV",
        "outputId": "ac406a08-84ed-4535-8f10-ba0a64bff028"
      },
      "execution_count": 39,
      "outputs": [
        {
          "output_type": "stream",
          "name": "stdout",
          "text": [
            " * sqlite:///foo1.db\n",
            "Done.\n"
          ]
        },
        {
          "output_type": "execute_result",
          "data": {
            "text/html": [
              "<table>\n",
              "    <thead>\n",
              "        <tr>\n",
              "            <th>avg_legs</th>\n",
              "            <th>avg_weights</th>\n",
              "        </tr>\n",
              "    </thead>\n",
              "    <tbody>\n",
              "        <tr>\n",
              "            <td>3.0</td>\n",
              "            <td>2009.3333333333333</td>\n",
              "        </tr>\n",
              "    </tbody>\n",
              "</table>"
            ],
            "text/plain": [
              "[(3.0, 2009.3333333333333)]"
            ]
          },
          "metadata": {},
          "execution_count": 39
        }
      ]
    },
    {
      "cell_type": "markdown",
      "source": [
        "3. SELECT the animal kind(s) that have more than two legs, but weighs less than 20. Display kind, weight, legs."
      ],
      "metadata": {
        "id": "HCGwwhzaBi32"
      }
    },
    {
      "cell_type": "code",
      "source": [
        "%%sql\n",
        "select kind, weight, legs\n",
        "from animals\n",
        "where legs>2 and weight<20"
      ],
      "metadata": {
        "colab": {
          "base_uri": "https://localhost:8080/",
          "height": 118
        },
        "id": "Z8UwKslQBncY",
        "outputId": "bdee5c2d-67ae-4897-a066-ee9fa0bbadce"
      },
      "execution_count": 40,
      "outputs": [
        {
          "output_type": "stream",
          "name": "stdout",
          "text": [
            " * sqlite:///foo1.db\n",
            "Done.\n"
          ]
        },
        {
          "output_type": "execute_result",
          "data": {
            "text/html": [
              "<table>\n",
              "    <thead>\n",
              "        <tr>\n",
              "            <th>kind</th>\n",
              "            <th>weight</th>\n",
              "            <th>legs</th>\n",
              "        </tr>\n",
              "    </thead>\n",
              "    <tbody>\n",
              "        <tr>\n",
              "            <td>cat</td>\n",
              "            <td>10</td>\n",
              "            <td>4</td>\n",
              "        </tr>\n",
              "        <tr>\n",
              "            <td>ferret</td>\n",
              "            <td>10</td>\n",
              "            <td>4</td>\n",
              "        </tr>\n",
              "    </tbody>\n",
              "</table>"
            ],
            "text/plain": [
              "[('cat', 10, 4), ('ferret', 10, 4)]"
            ]
          },
          "metadata": {},
          "execution_count": 40
        }
      ]
    },
    {
      "cell_type": "markdown",
      "source": [
        "4. SELECT the average weight for all the animals with 2 legs and the animals with 4 legs (by using GROUP BY)."
      ],
      "metadata": {
        "id": "TTppbmkTB8FI"
      }
    },
    {
      "cell_type": "code",
      "source": [
        "%%sql\n",
        "select AVG(weight) as avg_weight\n",
        "from animals\n",
        "group by legs"
      ],
      "metadata": {
        "colab": {
          "base_uri": "https://localhost:8080/",
          "height": 118
        },
        "id": "-32uHyDJCUWw",
        "outputId": "6d5e5341-2f78-4ea5-cce0-02963a73b380"
      },
      "execution_count": 43,
      "outputs": [
        {
          "output_type": "stream",
          "name": "stdout",
          "text": [
            " * sqlite:///foo1.db\n",
            "Done.\n"
          ]
        },
        {
          "output_type": "execute_result",
          "data": {
            "text/html": [
              "<table>\n",
              "    <thead>\n",
              "        <tr>\n",
              "            <th>avg_weight</th>\n",
              "        </tr>\n",
              "    </thead>\n",
              "    <tbody>\n",
              "        <tr>\n",
              "            <td>4005.3333333333335</td>\n",
              "        </tr>\n",
              "        <tr>\n",
              "            <td>13.333333333333334</td>\n",
              "        </tr>\n",
              "    </tbody>\n",
              "</table>"
            ],
            "text/plain": [
              "[(4005.3333333333335,), (13.333333333333334,)]"
            ]
          },
          "metadata": {},
          "execution_count": 43
        }
      ]
    }
  ]
}