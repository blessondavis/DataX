{
  "nbformat": 4,
  "nbformat_minor": 0,
  "metadata": {
    "colab": {
      "name": "Webscraping_DataX.ipynb",
      "provenance": [],
      "collapsed_sections": []
    },
    "kernelspec": {
      "name": "python3",
      "display_name": "Python 3"
    },
    "language_info": {
      "name": "python"
    }
  },
  "cells": [
    {
      "cell_type": "code",
      "source": [
        "#Importing required packages\n",
        "import requests\n",
        "import bs4 as bs \n",
        "import pandas as pd"
      ],
      "metadata": {
        "id": "wuLAnVctZ0TT"
      },
      "execution_count": 222,
      "outputs": []
    },
    {
      "cell_type": "code",
      "execution_count": 223,
      "metadata": {
        "id": "bBW53iMQY-Gd"
      },
      "outputs": [],
      "source": [
        "source = requests.get(\"http://forecast.weather.gov/MapClick.php?lat=37.87158815800046&lon=-122.27274583799971\") \n",
        "soup = bs.BeautifulSoup(source.content, features='html.parser') \n",
        "forecast = soup.find(id='seven-day-forecast')\n",
        "p_forecast=[]\n",
        "for p in soup.find_all('p'):\n",
        "    p_forecast.append((p.text))"
      ]
    },
    {
      "cell_type": "code",
      "source": [
        "#Creating a dataframe to create the required output and cleaning it\n",
        "output=pd.DataFrame(p_forecast)\n",
        "output.rename(columns={0:'day'},inplace=True)\n",
        "output=output[output['day'].astype(bool)]\n",
        "output.drop([44,45,46],axis=0,inplace=True)\n",
        "output=output.iloc[8:44]\n",
        "output.reset_index(inplace=True)\n",
        "output.drop(['index'],axis=1,inplace=True)"
      ],
      "metadata": {
        "id": "AaBNLCuLLt0-"
      },
      "execution_count": null,
      "outputs": []
    },
    {
      "cell_type": "code",
      "source": [
        "#Creating the day, temp, short description columns\n",
        "day=[]\n",
        "temp=[]\n",
        "short_desc=[]\n",
        "desc=[]\n",
        "for i in range(0,output.shape[0],3):\n",
        "  day.append(output.iloc[i].values[0])\n",
        "  short_desc.append(output.iloc[i+1].values[0])\n",
        "  temp.append(output.iloc[i+2].values[0])\n",
        "output=pd.DataFrame()\n",
        "output['day']=day\n",
        "output['short_desc']=short_desc\n",
        "output['temp'] = temp"
      ],
      "metadata": {
        "id": "JpKPxkisZ726"
      },
      "execution_count": 224,
      "outputs": []
    },
    {
      "cell_type": "code",
      "source": [
        "#To extract the long description\n",
        "from pandas.core.groupby.base import OutputKey\n",
        "long_desc=[]\n",
        "for data in forecast.find_all(class_='forecast-tombstone'):\n",
        "  long_desc.append(data.find('img')['alt'])\n",
        "output['desc']=long_desc"
      ],
      "metadata": {
        "id": "oVaOh_WGoLHu"
      },
      "execution_count": 225,
      "outputs": []
    },
    {
      "cell_type": "markdown",
      "source": [
        "### Required Output"
      ],
      "metadata": {
        "id": "lz7_oZHUJ4RB"
      }
    },
    {
      "cell_type": "code",
      "source": [
        "output"
      ],
      "metadata": {
        "colab": {
          "base_uri": "https://localhost:8080/",
          "height": 331
        },
        "id": "4hky8rIzCntQ",
        "outputId": "ee8809e6-f27e-46c4-997a-7ad888d71924"
      },
      "execution_count": 226,
      "outputs": [
        {
          "output_type": "execute_result",
          "data": {
            "text/html": [
              "<div>\n",
              "<style scoped>\n",
              "    .dataframe tbody tr th:only-of-type {\n",
              "        vertical-align: middle;\n",
              "    }\n",
              "\n",
              "    .dataframe tbody tr th {\n",
              "        vertical-align: top;\n",
              "    }\n",
              "\n",
              "    .dataframe thead th {\n",
              "        text-align: right;\n",
              "    }\n",
              "</style>\n",
              "<table border=\"1\" class=\"dataframe\">\n",
              "  <thead>\n",
              "    <tr style=\"text-align: right;\">\n",
              "      <th></th>\n",
              "      <th>day</th>\n",
              "      <th>short_desc</th>\n",
              "      <th>temp</th>\n",
              "      <th>desc</th>\n",
              "    </tr>\n",
              "  </thead>\n",
              "  <tbody>\n",
              "    <tr>\n",
              "      <th>0</th>\n",
              "      <td>Today</td>\n",
              "      <td>Rain</td>\n",
              "      <td>High: 56 °F</td>\n",
              "      <td>Today: Rain after 10am.  High near 56. South w...</td>\n",
              "    </tr>\n",
              "    <tr>\n",
              "      <th>1</th>\n",
              "      <td>Tonight</td>\n",
              "      <td>Rain</td>\n",
              "      <td>Low: 49 °F</td>\n",
              "      <td>Tonight: Rain and possibly a thunderstorm.  Lo...</td>\n",
              "    </tr>\n",
              "    <tr>\n",
              "      <th>2</th>\n",
              "      <td>Thursday</td>\n",
              "      <td>Chance Rainthen Sunny</td>\n",
              "      <td>High: 56 °F</td>\n",
              "      <td>Thursday: A 30 percent chance of rain before 1...</td>\n",
              "    </tr>\n",
              "    <tr>\n",
              "      <th>3</th>\n",
              "      <td>ThursdayNight</td>\n",
              "      <td>Partly Cloudy</td>\n",
              "      <td>Low: 42 °F</td>\n",
              "      <td>Thursday Night: Partly cloudy, with a low arou...</td>\n",
              "    </tr>\n",
              "    <tr>\n",
              "      <th>4</th>\n",
              "      <td>Friday</td>\n",
              "      <td>Sunny</td>\n",
              "      <td>High: 53 °F</td>\n",
              "      <td>Friday: Sunny, with a high near 53. North nort...</td>\n",
              "    </tr>\n",
              "    <tr>\n",
              "      <th>5</th>\n",
              "      <td>FridayNight</td>\n",
              "      <td>Partly Cloudy</td>\n",
              "      <td>Low: 40 °F</td>\n",
              "      <td>Friday Night: Partly cloudy, with a low around...</td>\n",
              "    </tr>\n",
              "    <tr>\n",
              "      <th>6</th>\n",
              "      <td>Saturday</td>\n",
              "      <td>Mostly Sunny</td>\n",
              "      <td>High: 52 °F</td>\n",
              "      <td>Saturday: Mostly sunny, with a high near 52.</td>\n",
              "    </tr>\n",
              "    <tr>\n",
              "      <th>7</th>\n",
              "      <td>SaturdayNight</td>\n",
              "      <td>Slight ChanceRain</td>\n",
              "      <td>Low: 42 °F</td>\n",
              "      <td>Saturday Night: A slight chance of rain after ...</td>\n",
              "    </tr>\n",
              "    <tr>\n",
              "      <th>8</th>\n",
              "      <td>Sunday</td>\n",
              "      <td>Chance Rain</td>\n",
              "      <td>High: 53 °F</td>\n",
              "      <td>Sunday: A chance of rain.  Partly sunny, with ...</td>\n",
              "    </tr>\n",
              "  </tbody>\n",
              "</table>\n",
              "</div>"
            ],
            "text/plain": [
              "             day  ...                                               desc\n",
              "0          Today  ...  Today: Rain after 10am.  High near 56. South w...\n",
              "1        Tonight  ...  Tonight: Rain and possibly a thunderstorm.  Lo...\n",
              "2       Thursday  ...  Thursday: A 30 percent chance of rain before 1...\n",
              "3  ThursdayNight  ...  Thursday Night: Partly cloudy, with a low arou...\n",
              "4         Friday  ...  Friday: Sunny, with a high near 53. North nort...\n",
              "5    FridayNight  ...  Friday Night: Partly cloudy, with a low around...\n",
              "6       Saturday  ...       Saturday: Mostly sunny, with a high near 52.\n",
              "7  SaturdayNight  ...  Saturday Night: A slight chance of rain after ...\n",
              "8         Sunday  ...  Sunday: A chance of rain.  Partly sunny, with ...\n",
              "\n",
              "[9 rows x 4 columns]"
            ]
          },
          "metadata": {},
          "execution_count": 226
        }
      ]
    }
  ]
}